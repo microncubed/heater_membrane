{
 "cells": [
  {
   "cell_type": "markdown",
   "id": "c3d792be",
   "metadata": {},
   "source": [
    "# 02_analyse_data"
   ]
  },
  {
   "cell_type": "code",
   "execution_count": 19,
   "id": "fe511c3f",
   "metadata": {},
   "outputs": [],
   "source": [
    "import h5py\n",
    "import os\n",
    "import matplotlib.pyplot as plt\n",
    "plt.rcParams['font.size'] = 16\n",
    "\n",
    "file_list = ['velocity_0_um_per_s.hdf5',\n",
    "             'velocity_500_um_per_s.hdf5',\n",
    "             'velocity_1000_um_per_s.hdf5',\n",
    "             'velocity_5000_um_per_s.hdf5',\n",
    "             'velocity_10000_um_per_s.hdf5']\n",
    "\n",
    "path = os.getcwd()\n",
    "basepath = os.path.dirname(path)\n",
    "datapath = basepath+'/data'\n",
    "figpath = basepath+'/figures'\n",
    "srcpath =  basepath +'/src'"
   ]
  },
  {
   "cell_type": "code",
   "execution_count": 37,
   "id": "d8b79673",
   "metadata": {},
   "outputs": [],
   "source": [
    "T_list = []\n",
    "Q_list = []\n",
    "v_list = []\n",
    "for file in file_list:\n",
    "    f = h5py.File(datapath + '/' + file)\n",
    "    #print(list(f.keys()))\n",
    "    attrs = f.attrs\n",
    "    #print(attrs.keys())\n",
    "    #print(attrs['dx'])\n",
    "    T_list.append(f['T'][...])\n",
    "    Q_list.append(f['Q_in'][...])\n",
    "    v_list.append(attr)\n",
    "    f.close()"
   ]
  },
  {
   "cell_type": "code",
   "execution_count": null,
   "id": "d263ae6f",
   "metadata": {},
   "outputs": [],
   "source": []
  }
 ],
 "metadata": {
  "kernelspec": {
   "display_name": "Python 3 (ipykernel)",
   "language": "python",
   "name": "python3"
  },
  "language_info": {
   "codemirror_mode": {
    "name": "ipython",
    "version": 3
   },
   "file_extension": ".py",
   "mimetype": "text/x-python",
   "name": "python",
   "nbconvert_exporter": "python",
   "pygments_lexer": "ipython3",
   "version": "3.8.5"
  }
 },
 "nbformat": 4,
 "nbformat_minor": 5
}
